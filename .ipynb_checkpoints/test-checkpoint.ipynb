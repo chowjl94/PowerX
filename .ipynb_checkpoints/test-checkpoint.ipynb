{
 "cells": [
  {
   "cell_type": "code",
   "execution_count": 1,
   "metadata": {},
   "outputs": [],
   "source": [
    "def merge_sort(arr, key=lambda x: x):\n",
    "    if len(arr) < 2:\n",
    "        return arr\n",
    "\n",
    "    mid = len(arr) // 2\n",
    "    left = arr[:mid]\n",
    "    right = arr[mid:]\n",
    "    merge_sort(left)\n",
    "    merge_sort(right)\n",
    "\n",
    "    i = j = k = 0\n",
    "    while i < len(left) and j < len(right):\n",
    "        if key(left[i]) < key(right[j]):\n",
    "            arr[k] = left[i]\n",
    "            i += 1\n",
    "        else:\n",
    "            arr[k] = right[j]\n",
    "            j += 1\n",
    "        k += 1\n",
    "\n",
    "    while i < len(left):\n",
    "        arr[k] = left[i]\n",
    "        i += 1\n",
    "        k += 1\n",
    "\n",
    "    while j < len(right):\n",
    "        arr[k] = right[j]\n",
    "        j += 1\n",
    "        k += 1\n",
    "\n",
    "    return arr\n",
    "\n",
    "\n",
    "list_of_tuples = [('Birds of Prey', 97.1),\n",
    "                  ('Dolittle', 175.0),\n",
    "                  ('The Gentlemen', 7.0),\n",
    "                  ('Falling', 22.0)]"
   ]
  },
  {
   "cell_type": "code",
   "execution_count": 2,
   "metadata": {},
   "outputs": [],
   "source": [
    "res = merge_sort(list_of_tuples, key=lambda x: x[1])"
   ]
  },
  {
   "cell_type": "code",
   "execution_count": 4,
   "metadata": {},
   "outputs": [],
   "source": [
    "def mergesort(array , key = lambda item: item):\n",
    "    n = len(array)\n",
    "    if n == 1:\n",
    "        return array\n",
    "    else:\n",
    "        larr=array[:(n//2)]\n",
    "        rarr=array[(n//2):]\n",
    "\n",
    "        mergesort(larr)\n",
    "        mergesort(rarr)\n",
    "\n",
    "        dest,pointer_left ,pointer_right = 0 , 0 , 0\n",
    "        n_larr , n_rarr= len(larr),len(rarr)\n",
    "\n",
    "        while (pointer_left < n_larr) and (pointer_right < n_rarr):\n",
    "            if key[pointer_left]<key[pointer_right]:\n",
    "                array[dest] = larr[pointer_left]\n",
    "                ##left pointer shift\n",
    "                pointer_left +=1\n",
    "            else:\n",
    "                array[dest] = rarr[pointer_right]\n",
    "                ## right pointert shift\n",
    "                pointer_right+=1\n",
    "            dest+=1\n",
    "\n",
    "        while (pointer_right<n_rarr):\n",
    "            array[dest] = rarr[pointer_right]\n",
    "            pointer_right+=1\n",
    "            dest+=1\n",
    "        while(pointer_left<n_larr):\n",
    "            array[dest] =larr[pointer_left]\n",
    "            pointer_left+=1\n",
    "            dest+=1 \n",
    "        return array\n"
   ]
  },
  {
   "cell_type": "code",
   "execution_count": null,
   "metadata": {},
   "outputs": [],
   "source": [
    "# def mergesort(array, byfunc=None):\n",
    "    \n",
    "#   pass\n",
    "\n",
    "\n",
    "def mergesort(array , key = lambda item: item):\n",
    "    n = len(array)\n",
    "    if n == 1:\n",
    "        return array\n",
    "    else:\n",
    "        larr=array[:(n//2)]\n",
    "        rarr=array[(n//2):]\n",
    "\n",
    "        mergesort(larr)\n",
    "        mergesort(rarr)\n",
    "\n",
    "        dest,pointer_left ,pointer_right = 0 , 0 , 0\n",
    "        n_larr , n_rarr= len(larr),len(rarr)\n",
    "\n",
    "        while (pointer_left < n_larr) and (pointer_right < n_rarr):\n",
    "            if key[pointer_left]<key[pointer_right]:\n",
    "                array[dest] = larr[pointer_left]\n",
    "                ##left pointer shift\n",
    "                pointer_left +=1\n",
    "            else:\n",
    "                array[dest] = rarr[pointer_right]\n",
    "                ## right pointert shift\n",
    "                pointer_right+=1\n",
    "            dest+=1\n",
    "\n",
    "        while (pointer_right<n_rarr):\n",
    "            array[dest] = rarr[pointer_right]\n",
    "            pointer_right+=1\n",
    "            dest+=1\n",
    "        while(pointer_left<n_larr):\n",
    "            array[dest] =larr[pointer_left]\n",
    "            pointer_left+=1\n",
    "            dest+=1 \n",
    "        return array"
   ]
  },
  {
   "cell_type": "code",
   "execution_count": 5,
   "metadata": {},
   "outputs": [
    {
     "ename": "TypeError",
     "evalue": "'function' object is not subscriptable",
     "output_type": "error",
     "traceback": [
      "\u001b[1;31m---------------------------------------------------------------------------\u001b[0m",
      "\u001b[1;31mTypeError\u001b[0m                                 Traceback (most recent call last)",
      "\u001b[1;32m<ipython-input-5-68d027405056>\u001b[0m in \u001b[0;36m<module>\u001b[1;34m\u001b[0m\n\u001b[1;32m----> 1\u001b[1;33m \u001b[0mres\u001b[0m \u001b[1;33m=\u001b[0m \u001b[0mmergesort\u001b[0m\u001b[1;33m(\u001b[0m\u001b[0mlist_of_tuples\u001b[0m\u001b[1;33m,\u001b[0m \u001b[0mkey\u001b[0m\u001b[1;33m=\u001b[0m\u001b[1;32mlambda\u001b[0m \u001b[0mx\u001b[0m\u001b[1;33m:\u001b[0m \u001b[0mx\u001b[0m\u001b[1;33m[\u001b[0m\u001b[1;36m1\u001b[0m\u001b[1;33m]\u001b[0m\u001b[1;33m)\u001b[0m\u001b[1;33m\u001b[0m\u001b[1;33m\u001b[0m\u001b[0m\n\u001b[0m",
      "\u001b[1;32m<ipython-input-4-c5ca0ea829c0>\u001b[0m in \u001b[0;36mmergesort\u001b[1;34m(array, key)\u001b[0m\n\u001b[0;32m      7\u001b[0m         \u001b[0mrarr\u001b[0m\u001b[1;33m=\u001b[0m\u001b[0marray\u001b[0m\u001b[1;33m[\u001b[0m\u001b[1;33m(\u001b[0m\u001b[0mn\u001b[0m\u001b[1;33m//\u001b[0m\u001b[1;36m2\u001b[0m\u001b[1;33m)\u001b[0m\u001b[1;33m:\u001b[0m\u001b[1;33m]\u001b[0m\u001b[1;33m\u001b[0m\u001b[1;33m\u001b[0m\u001b[0m\n\u001b[0;32m      8\u001b[0m \u001b[1;33m\u001b[0m\u001b[0m\n\u001b[1;32m----> 9\u001b[1;33m         \u001b[0mmergesort\u001b[0m\u001b[1;33m(\u001b[0m\u001b[0mlarr\u001b[0m\u001b[1;33m)\u001b[0m\u001b[1;33m\u001b[0m\u001b[1;33m\u001b[0m\u001b[0m\n\u001b[0m\u001b[0;32m     10\u001b[0m         \u001b[0mmergesort\u001b[0m\u001b[1;33m(\u001b[0m\u001b[0mrarr\u001b[0m\u001b[1;33m)\u001b[0m\u001b[1;33m\u001b[0m\u001b[1;33m\u001b[0m\u001b[0m\n\u001b[0;32m     11\u001b[0m \u001b[1;33m\u001b[0m\u001b[0m\n",
      "\u001b[1;32m<ipython-input-4-c5ca0ea829c0>\u001b[0m in \u001b[0;36mmergesort\u001b[1;34m(array, key)\u001b[0m\n\u001b[0;32m     14\u001b[0m \u001b[1;33m\u001b[0m\u001b[0m\n\u001b[0;32m     15\u001b[0m         \u001b[1;32mwhile\u001b[0m \u001b[1;33m(\u001b[0m\u001b[0mpointer_left\u001b[0m \u001b[1;33m<\u001b[0m \u001b[0mn_larr\u001b[0m\u001b[1;33m)\u001b[0m \u001b[1;32mand\u001b[0m \u001b[1;33m(\u001b[0m\u001b[0mpointer_right\u001b[0m \u001b[1;33m<\u001b[0m \u001b[0mn_rarr\u001b[0m\u001b[1;33m)\u001b[0m\u001b[1;33m:\u001b[0m\u001b[1;33m\u001b[0m\u001b[1;33m\u001b[0m\u001b[0m\n\u001b[1;32m---> 16\u001b[1;33m             \u001b[1;32mif\u001b[0m \u001b[0mkey\u001b[0m\u001b[1;33m[\u001b[0m\u001b[0mpointer_left\u001b[0m\u001b[1;33m]\u001b[0m\u001b[1;33m<\u001b[0m\u001b[0mkey\u001b[0m\u001b[1;33m[\u001b[0m\u001b[0mpointer_right\u001b[0m\u001b[1;33m]\u001b[0m\u001b[1;33m:\u001b[0m\u001b[1;33m\u001b[0m\u001b[1;33m\u001b[0m\u001b[0m\n\u001b[0m\u001b[0;32m     17\u001b[0m                 \u001b[0marray\u001b[0m\u001b[1;33m[\u001b[0m\u001b[0mdest\u001b[0m\u001b[1;33m]\u001b[0m \u001b[1;33m=\u001b[0m \u001b[0mlarr\u001b[0m\u001b[1;33m[\u001b[0m\u001b[0mpointer_left\u001b[0m\u001b[1;33m]\u001b[0m\u001b[1;33m\u001b[0m\u001b[1;33m\u001b[0m\u001b[0m\n\u001b[0;32m     18\u001b[0m                 \u001b[1;31m##left pointer shift\u001b[0m\u001b[1;33m\u001b[0m\u001b[1;33m\u001b[0m\u001b[1;33m\u001b[0m\u001b[0m\n",
      "\u001b[1;31mTypeError\u001b[0m: 'function' object is not subscriptable"
     ]
    }
   ],
   "source": [
    "res = mergesort(list_of_tuples, key=lambda x: x[1])"
   ]
  },
  {
   "cell_type": "code",
   "execution_count": null,
   "metadata": {},
   "outputs": [],
   "source": []
  }
 ],
 "metadata": {
  "kernelspec": {
   "display_name": "Python 3",
   "language": "python",
   "name": "python3"
  },
  "language_info": {
   "codemirror_mode": {
    "name": "ipython",
    "version": 3
   },
   "file_extension": ".py",
   "mimetype": "text/x-python",
   "name": "python",
   "nbconvert_exporter": "python",
   "pygments_lexer": "ipython3",
   "version": "3.7.6"
  }
 },
 "nbformat": 4,
 "nbformat_minor": 4
}
