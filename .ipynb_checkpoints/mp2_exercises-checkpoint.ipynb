{
 "cells": [
  {
   "cell_type": "markdown",
   "metadata": {},
   "source": [
    "# Mini Project: Sorting and Evaluating Math Expressions"
   ]
  },
  {
   "cell_type": "markdown",
   "metadata": {},
   "source": [
    "## Week 3"
   ]
  },
  {
   "cell_type": "markdown",
   "metadata": {},
   "source": [
    "**Q1.** *Mergesort:* Modify your `mergesort(array)` function that you did in your cohort session to take one additional argument called `byfunc`, i.e. `mergesort(array, byfunc)`. If the caller does not specify the value of `byfunc`, its default value is `None`. When this argument is `None`, the function `mergesort` behaves similar to your cohort session by sorting the array according to its values. However, when the value of this argument is not `None` but rather some other function, your `mergesort` function should sort the array according to the value returned by this function. \n",
    "\n",
    "For example, instead of sorting an array of integers, we want to sort an array of tupple.\n",
    "```python\n",
    "array = [(1, 2), (3, 2), (2, -1), (4, 7), (-1, -2)]\n",
    "```\n",
    "We can define a function say `select()` as follows:\n",
    "```python\n",
    "def select(item):\n",
    "    return item[0]\n",
    "```\n",
    "\n",
    "You can then should be able to call your `mergesort()` function in the following:\n",
    "```python\n",
    "mergesort(array, select)\n",
    "```\n",
    "which will sort the list of tuples according to the value of its *first* element (recall `item[0]` in `select()`). This means that if you want to sort based on the *second* element of the tuple, you can redefine select as:\n",
    "```python\n",
    "def select(item):\n",
    "    return item[1]\n",
    "```\n",
    "\n",
    "You can also apply this to a list of objects, say `User` class objects.\n",
    "```python\n",
    "array = [<User 1>, <User 2>, <User 3>, ..., <User 101>]\n",
    "```\n",
    "You can define the following `select()` function to sort according to its `username` attribute.\n",
    "```python\n",
    "def select(item):\n",
    "    return item.username\n",
    "```\n",
    "\n",
    "You can then call the `mergesort()` function as follows:\n",
    "```python\n",
    "mergesort(array, select)\n",
    "```\n",
    "\n",
    "Python allows you to write [lambda functions](https://realpython.com/python-lambda/) to replace your `select()` function definition. You can simply call merge sort with the following without defining `select()`.\n",
    "```python\n",
    "mergesort(array, lambda item: item.username)\n",
    "```"
   ]
  },
  {
   "cell_type": "code",
   "execution_count": 4,
   "metadata": {},
   "outputs": [],
   "source": [
    "\n",
    "def mergesort(arr, key):\n",
    "    if len(arr) < 2:\n",
    "        return arr\n",
    "\n",
    "    mid = len(arr) // 2\n",
    "    print(arr)\n",
    "    left = arr[:mid]\n",
    "    right = arr[mid:]\n",
    "    mergesort(left, key)\n",
    "    mergesort(right, key)\n",
    "\n",
    "    i = j = k = 0\n",
    "    while i < len(left) and j < len(right):\n",
    "        if key(left[i]) < key(right[j]):\n",
    "            arr[k] = left[i]\n",
    "            i += 1\n",
    "        else:\n",
    "            arr[k] = right[j]\n",
    "            j += 1\n",
    "        k += 1\n",
    "\n",
    "    while i < len(left):\n",
    "        arr[k] = left[i]\n",
    "        i += 1\n",
    "        k += 1\n",
    "\n",
    "    while j < len(right):\n",
    "        arr[k] = right[j]\n",
    "        j += 1\n",
    "        k += 1\n",
    "#     print(f\"final: {arr}\")\n",
    "\n",
    "#     return arr\n",
    "\n",
    "# def mergesort(array, key = lambda item : item):\n",
    "    \n",
    "#     n = len(array)\n",
    "#     if n == 1:\n",
    "#         return array\n",
    "#     else:\n",
    "#         larr=array[:(n//2)]\n",
    "#         rarr=array[(n//2):]\n",
    "\n",
    "#         mergesort(larr)\n",
    "#         mergesort(rarr)\n",
    "\n",
    "#         dest,pointer_left ,pointer_right = 0 , 0 , 0\n",
    "#         n_larr , n_rarr= len(larr),len(rarr)\n",
    "\n",
    "#         while (pointer_left < n_larr) and (pointer_right < n_rarr):\n",
    "#             if larr[pointer_left]<rarr[pointer_right]:\n",
    "#                 array[dest] = larr[pointer_left]\n",
    "#                 ##left pointer shift\n",
    "#                 pointer_left +=1\n",
    "#             else:\n",
    "#                 array[dest] = rarr[pointer_right]\n",
    "#                 ## right pointert shift\n",
    "#                 pointer_right+=1\n",
    "#             dest+=1\n",
    "\n",
    "#         while (pointer_right<n_rarr):\n",
    "#             array[dest] = rarr[pointer_right]\n",
    "#             pointer_right+=1\n",
    "#             dest+=1\n",
    "#         while(pointer_left<n_larr):\n",
    "#             array[dest] =larr[pointer_left]\n",
    "#             pointer_left+=1\n",
    "#             dest+=1 \n",
    "#     return array\n",
    "\n"
   ]
  },
  {
   "cell_type": "code",
   "execution_count": 5,
   "metadata": {},
   "outputs": [
    {
     "name": "stdout",
     "output_type": "stream",
     "text": [
      "[(1, 2), (3, 2), (2, -1), (4, 7), (-1, -2)]\n",
      "[(1, 2), (3, 2)]\n",
      "[(2, -1), (4, 7), (-1, -2)]\n",
      "[(4, 7), (-1, -2)]\n",
      "[(-1, -2), (1, 2), (2, -1), (3, 2), (4, 7)]\n",
      "[(-1, -2), (1, 2)]\n",
      "[(2, -1), (3, 2), (4, 7)]\n",
      "[(3, 2), (4, 7)]\n"
     ]
    },
    {
     "ename": "AssertionError",
     "evalue": "",
     "output_type": "error",
     "traceback": [
      "\u001b[1;31m---------------------------------------------------------------------------\u001b[0m",
      "\u001b[1;31mAssertionError\u001b[0m                            Traceback (most recent call last)",
      "\u001b[1;32m<ipython-input-5-b9452c5d41bb>\u001b[0m in \u001b[0;36m<module>\u001b[1;34m\u001b[0m\n\u001b[0;32m      3\u001b[0m \u001b[1;32massert\u001b[0m \u001b[0marray\u001b[0m \u001b[1;33m==\u001b[0m \u001b[1;33m[\u001b[0m\u001b[1;33m(\u001b[0m\u001b[1;33m-\u001b[0m\u001b[1;36m1\u001b[0m\u001b[1;33m,\u001b[0m \u001b[1;33m-\u001b[0m\u001b[1;36m2\u001b[0m\u001b[1;33m)\u001b[0m\u001b[1;33m,\u001b[0m \u001b[1;33m(\u001b[0m\u001b[1;36m1\u001b[0m\u001b[1;33m,\u001b[0m \u001b[1;36m2\u001b[0m\u001b[1;33m)\u001b[0m\u001b[1;33m,\u001b[0m \u001b[1;33m(\u001b[0m\u001b[1;36m2\u001b[0m\u001b[1;33m,\u001b[0m \u001b[1;33m-\u001b[0m\u001b[1;36m1\u001b[0m\u001b[1;33m)\u001b[0m\u001b[1;33m,\u001b[0m \u001b[1;33m(\u001b[0m\u001b[1;36m3\u001b[0m\u001b[1;33m,\u001b[0m \u001b[1;36m2\u001b[0m\u001b[1;33m)\u001b[0m\u001b[1;33m,\u001b[0m \u001b[1;33m(\u001b[0m\u001b[1;36m4\u001b[0m\u001b[1;33m,\u001b[0m \u001b[1;36m7\u001b[0m\u001b[1;33m)\u001b[0m\u001b[1;33m]\u001b[0m\u001b[1;33m\u001b[0m\u001b[1;33m\u001b[0m\u001b[0m\n\u001b[0;32m      4\u001b[0m \u001b[0mmergesort\u001b[0m\u001b[1;33m(\u001b[0m\u001b[0marray\u001b[0m\u001b[1;33m,\u001b[0m \u001b[1;32mlambda\u001b[0m \u001b[0mitem\u001b[0m\u001b[1;33m:\u001b[0m \u001b[0mitem\u001b[0m\u001b[1;33m[\u001b[0m\u001b[1;36m1\u001b[0m\u001b[1;33m]\u001b[0m\u001b[1;33m)\u001b[0m\u001b[1;33m\u001b[0m\u001b[1;33m\u001b[0m\u001b[0m\n\u001b[1;32m----> 5\u001b[1;33m \u001b[1;32massert\u001b[0m \u001b[0marray\u001b[0m \u001b[1;33m==\u001b[0m \u001b[1;33m[\u001b[0m\u001b[1;33m(\u001b[0m\u001b[1;33m-\u001b[0m\u001b[1;36m1\u001b[0m\u001b[1;33m,\u001b[0m \u001b[1;33m-\u001b[0m\u001b[1;36m2\u001b[0m\u001b[1;33m)\u001b[0m\u001b[1;33m,\u001b[0m \u001b[1;33m(\u001b[0m\u001b[1;36m2\u001b[0m\u001b[1;33m,\u001b[0m \u001b[1;33m-\u001b[0m\u001b[1;36m1\u001b[0m\u001b[1;33m)\u001b[0m\u001b[1;33m,\u001b[0m \u001b[1;33m(\u001b[0m\u001b[1;36m1\u001b[0m\u001b[1;33m,\u001b[0m \u001b[1;36m2\u001b[0m\u001b[1;33m)\u001b[0m\u001b[1;33m,\u001b[0m \u001b[1;33m(\u001b[0m\u001b[1;36m3\u001b[0m\u001b[1;33m,\u001b[0m \u001b[1;36m2\u001b[0m\u001b[1;33m)\u001b[0m\u001b[1;33m,\u001b[0m \u001b[1;33m(\u001b[0m\u001b[1;36m4\u001b[0m\u001b[1;33m,\u001b[0m \u001b[1;36m7\u001b[0m\u001b[1;33m)\u001b[0m\u001b[1;33m]\u001b[0m\u001b[1;33m\u001b[0m\u001b[1;33m\u001b[0m\u001b[0m\n\u001b[0m",
      "\u001b[1;31mAssertionError\u001b[0m: "
     ]
    }
   ],
   "source": [
    "array = [(1, 2), (3, 2), (2, -1), (4, 7), (-1, -2)]\n",
    "mergesort(array, lambda item: item[0])\n",
    "assert array == [(-1, -2), (1, 2), (2, -1), (3, 2), (4, 7)]\n",
    "mergesort(array, lambda item: item[1])\n",
    "assert array == [(-1, -2), (2, -1), (1, 2), (3, 2), (4, 7)]"
   ]
  },
  {
   "cell_type": "markdown",
   "metadata": {},
   "source": [
    "**Q2.** Create a class called `EvaluateExpression` to evaluate mathematical expressions for Integers. The class has the following property:\n",
    "- `expression`: which is a property with a get and set method. The set method of this property should check if the string contains any invalid characters. If there is any invalid character, it should set the internal property `expr` to an empty String. Otherwise, it should set the string as it is. Valid characters are: `0123456789+-*/()` and an empty space.\n",
    "- `expr`: which is a property that stores only valid expression. It is used internally to store the expression.\n",
    "\n",
    "During object instantiation, a string can be passed on to `__init__()`.\n",
    "- `__init__(expr)`: where expr is the mathematical expression to initialize the property `expr`. If nothing is provided it should initialize to an empty String. If the string contains other characters besides those in the valid characters list above, the property `expr` should be initialized to an empty string.\n",
    "\n",
    "\n"
   ]
  },
  {
   "cell_type": "code",
   "execution_count": 6,
   "metadata": {},
   "outputs": [],
   "source": [
    "class EvaluateExpression:\n",
    "  valid_char = '0123456789+-*/() '\n",
    "  operator = '+-*/()'\n",
    "  \n",
    "  def __init__(self, string=\"\"):\n",
    "        self.expression = string\n",
    "  @property\n",
    "  def expression(self):\n",
    "        return self._expression\n",
    "  @expression.setter\n",
    "  def expression(self,expr):\n",
    "        temp= ''\n",
    "        for char in expr:\n",
    "            #print(f\"temp: {temp} expr: {expr}\")\n",
    "            if char in EvaluateExpression.valid_char:\n",
    "                temp += char\n",
    "        if temp != expr:\n",
    "            self._expression = \"\"\n",
    "        else:\n",
    "            self._expression = expr\n",
    "        "
   ]
  },
  {
   "cell_type": "code",
   "execution_count": 7,
   "metadata": {},
   "outputs": [
    {
     "data": {
      "text/plain": [
       "True"
      ]
     },
     "execution_count": 7,
     "metadata": {},
     "output_type": "execute_result"
    }
   ],
   "source": [
    "expr2 = EvaluateExpression(\"3 & 4\")\n",
    "expr2.expression = \"3 & 4\"\n",
    "expr2.expression == \"\""
   ]
  },
  {
   "cell_type": "code",
   "execution_count": 8,
   "metadata": {},
   "outputs": [],
   "source": [
    "expr1 = EvaluateExpression()\n",
    "assert expr1.expression == \"\"\n",
    "expr2 = EvaluateExpression(\"1 + 2\")\n",
    "assert expr2.expression == \"1 + 2\"\n",
    "expr2.expression = \"3 * 4\"\n",
    "assert expr2.expression == \"3 * 4\"\n",
    "expr2.expression = \"3 & 4\"\n",
    "assert expr2.expression == \"\""
   ]
  },
  {
   "cell_type": "markdown",
   "metadata": {},
   "source": [
    "**Q3.** The class `EvaluateExpression` also has the following method:\n",
    "- `insert_space()`: which is used to insert one empty space before an operator and another empty space after the operator in the `expression` property. The function should return a new String. Note that this means that if there are two operators side by side, there will be two empty space between them.\n",
    "\n"
   ]
  },
  {
   "cell_type": "code",
   "execution_count": 9,
   "metadata": {},
   "outputs": [
    {
     "data": {
      "text/plain": [
       "' (  ( 1 + 2 )  * 3 /  ( 4 - 5 )  ) '"
      ]
     },
     "execution_count": 9,
     "metadata": {},
     "output_type": "execute_result"
    }
   ],
   "source": [
    "class EvaluateExpression:\n",
    "  valid_char = '0123456789+-*/() '\n",
    "  operator = '+-*/()'\n",
    "  \n",
    "  def __init__(self, string=\"\"):\n",
    "        self.expression = string\n",
    "  @property\n",
    "  def expression(self):\n",
    "        return self._expression\n",
    "  @expression.setter\n",
    "  def expression(self,expr):\n",
    "        temp= ''\n",
    "        for char in expr:\n",
    "            #print(f\"temp: {temp} expr: {expr}\")\n",
    "            if char in EvaluateExpression.valid_char:\n",
    "                temp += char\n",
    "        if temp != expr:\n",
    "            self._expression = \"\"\n",
    "        else:\n",
    "            self._expression = expr\n",
    "    \n",
    "  def insert_space(self):\n",
    "    self.expression = \" \".join(self.expression)\n",
    "    list1 = self.expression.split()\n",
    "    for i in range(len(list1)):\n",
    "        if list1[i] in EvaluateExpression.operator:\n",
    "            new_length  =len(list1[i]) + 2\n",
    "            list1[i] = list1[i].center(new_length)\n",
    "    self.expression = \"\".join(list1)\n",
    "    return self.expression\n",
    "expr1 = EvaluateExpression(\"(1+2)\")\n",
    "expr1.expression\n",
    "expr1.insert_space()\n",
    "expr1.expression\n",
    "expr1.expression = '((1+2)*3/(4-5))'\n",
    "expr1.insert_space()\n",
    "expr1.expression"
   ]
  },
  {
   "cell_type": "code",
   "execution_count": 10,
   "metadata": {},
   "outputs": [],
   "source": [
    "expr1 = EvaluateExpression(\"(1+2)\")\n",
    "assert expr1.insert_space() == \" ( 1 + 2 ) \"\n",
    "expr1.expression = '((1+2)*3/(4-5))'\n",
    "assert expr1.insert_space() == \" (  ( 1 + 2 )  * 3 /  ( 4 - 5 )  ) \"\n"
   ]
  },
  {
   "cell_type": "markdown",
   "metadata": {},
   "source": [
    "## Week 4"
   ]
  },
  {
   "cell_type": "markdown",
   "metadata": {},
   "source": [
    "**Q4.** The class `EvaluateExpression` also has the following methods:\n",
    "- `process_operator(operand_stack, operator_stack)`: which process one operator. This method should modify the Stacks provided in the arguments. Note that the division operator `/` should be considered as an integer division for this exercise. This means that you need to use `//` in Python."
   ]
  },
  {
   "cell_type": "code",
   "execution_count": 11,
   "metadata": {},
   "outputs": [],
   "source": [
    "class Stack:\n",
    "  def __init__(self):\n",
    "    self.__items = []\n",
    "        \n",
    "  def push(self, item):\n",
    "    self.__items.append(item)\n",
    "    pass\n",
    "\n",
    "  def pop(self):\n",
    "    if not self.is_empty:\n",
    "        return self.__items.pop()\n",
    "    pass\n",
    "\n",
    "  def peek(self):\n",
    "    if not self.is_empty:\n",
    "        return self.__items[-1]\n",
    "    pass\n",
    "\n",
    "  @property\n",
    "  def is_empty(self):\n",
    "    return self.__items == []\n",
    "  pass\n",
    "\n",
    "  @property\n",
    "  def size(self):\n",
    "    return len(self.__items)\n"
   ]
  },
  {
   "cell_type": "code",
   "execution_count": 90,
   "metadata": {},
   "outputs": [],
   "source": [
    "class EvaluateExpression:\n",
    "  valid_char = '0123456789+-*/() '\n",
    "  operator = '+-*/()'\n",
    "  \n",
    "  def __init__(self, string=\"\"):\n",
    "        self.expression = string\n",
    "  @property\n",
    "  def expression(self):\n",
    "        return self._expression\n",
    "  @expression.setter\n",
    "  def expression(self,expr):\n",
    "        temp= ''\n",
    "        for char in expr:\n",
    "            #print(f\"temp: {temp} expr: {expr}\")\n",
    "            if char in EvaluateExpression.valid_char:\n",
    "                temp += char\n",
    "        if temp != expr:\n",
    "            self._expression = \"\"\n",
    "        else:\n",
    "            self._expression = expr\n",
    "    \n",
    "  def insert_space(self):\n",
    "    self.expression = \" \".join(self.expression)\n",
    "    list1 = self.expression.split()\n",
    "    for i in range(len(list1)):\n",
    "        if list1[i] in EvaluateExpression.operator:\n",
    "            new_length  =len(list1[i]) + 2\n",
    "            list1[i] = list1[i].center(new_length)\n",
    "    self.expression = \"\".join(list1)\n",
    "    return self.expression\n",
    "\n",
    "  def process_operator(self, operand_stack, operator_stack):\n",
    "    op1= operand_stack.pop()\n",
    "    op2= operand_stack.pop()\n",
    "    if operator_stack.peek() == \"+\":\n",
    "        return operand_stack.push(op2 + op1)\n",
    "    elif operator_stack.peek() == \"-\":\n",
    "        return operand_stack.push(op2 - op1)\n",
    "    elif operator_stack.peek() == \"*\":\n",
    "        return operand_stack.push(op2 * op1)\n",
    "    elif operator_stack.peek() == \"/\":\n",
    "        return operand_stack.push(op2 // op1)\n",
    "    else: return 0\n",
    "    \n",
    "    pass\n",
    "        \n",
    "    \n",
    "\n",
    "    \n",
    "    \n",
    "  "
   ]
  },
  {
   "cell_type": "code",
   "execution_count": null,
   "metadata": {},
   "outputs": [],
   "source": [
    "\n",
    "\n",
    "\n"
   ]
  },
  {
   "cell_type": "code",
   "execution_count": 70,
   "metadata": {},
   "outputs": [],
   "source": [
    "expr1 = EvaluateExpression()\n",
    "operand_stack = Stack()\n",
    "operator_stack = Stack()\n",
    "operand_stack.push(3)\n",
    "operand_stack.push(4)\n",
    "operand_stack.size\n",
    "operator_stack.push(\"+\")\n",
    "expr1.process_operator(operand_stack, operator_stack)\n",
    "assert operand_stack.peek() == 7\n",
    "operand_stack.push(5)\n",
    "operator_stack.push(\"*\")\n",
    "expr1.process_operator(operand_stack, operator_stack)\n",
    "assert operand_stack.peek() == 35\n",
    "operand_stack.push(30)\n",
    "operator_stack.push(\"-\")\n",
    "expr1.process_operator(operand_stack, operator_stack)\n",
    "assert operand_stack.peek() == 5\n",
    "operand_stack.push(2)\n",
    "operator_stack.push(\"/\")\n",
    "\n",
    "expr1.process_operator(operand_stack, operator_stack)\n",
    "assert operand_stack.peek() == 2"
   ]
  },
  {
   "cell_type": "markdown",
   "metadata": {},
   "source": [
    "**Q5.** The class `EvaluateExpression` also has the following methods:\n",
    "- `evaluate()`: which evaluate the mathematical expression contained in the property `expression`. The method should return an Integer. This method contains two processes:\n",
    "    - Phase 1: In this phase, the code scans the expression from left to right to extract operands, operators, and the parentheses.\n",
    "        1. If the extracted character is an operand, push it to `operand_stack`.\n",
    "        1. If the extracted character is + or - operator, process  all the operators at the top of the `operator_stack` and push the extracted operator to `operator_stack`. You should process all the operators as long as the `operator_stack` is not empty and the top of the `operator_stack` is not `(` or `)` symbols.\n",
    "        1. If the extracted character is a `*` or `/` operator, process all the `*` or `/` operators at the top of the `operator_stack` and push the extracted operator to `operator_stack`. \n",
    "        1. If the extracted character is a `(` symbol, push it to `operator_stack`.\n",
    "        1. If the extracted character is a `)` symbol, repeatedly process the operators from the top of `operator_stack` until seeing the `(` symbol on the stack. \n",
    "    - Phase 2: Repeatedly process the operators from the top of `operator_stack` until `operator_stack` is empty.\n"
   ]
  },
  {
   "cell_type": "code",
   "execution_count": 174,
   "metadata": {},
   "outputs": [],
   "source": [
    "class EvaluateExpression:\n",
    "  valid_char = '0123456789+-*/() '\n",
    "  nums = '0123456789'\n",
    "  operator = '+-*/()'\n",
    "\n",
    "  \n",
    "  def __init__(self, string=\"\"):\n",
    "        self._expression = string\n",
    "  @property\n",
    "  def expression(self):\n",
    "        return self._expression\n",
    "  @expression.setter\n",
    "  def expression(self,expr):        \n",
    "        for char in self._expression:\n",
    "            if char not in EvaluateExpression.valid_char:\n",
    "                self._expression = \"\"\n",
    "            else:\n",
    "                self._expression = expr\n",
    "        pass\n",
    "    \n",
    "  def insert_space(self):\n",
    "    self.expression = \" \".join(self.expression)\n",
    "    list1 = self.expression.split()\n",
    "    for i in range(len(list1)):\n",
    "        if list1[i] in EvaluateExpression.operator:\n",
    "            new_length  =len(list1[i]) + 2\n",
    "            list1[i] = list1[i].center(new_length)\n",
    "    self.expression = \"\".join(list1)\n",
    "    return self.expression     \n",
    "    \n",
    "\n",
    "  def process_operator(self, operand_stack, operator_stack):\n",
    "    op1= operand_stack.pop()\n",
    "    op2= operand_stack.pop()\n",
    "    if operator_stack.peek() == \"+\":\n",
    "        operator_stack.pop()\n",
    "        return operand_stack.push(op2 + op1)\n",
    "    \n",
    "    elif operator_stack.peek() == \"-\":\n",
    "        operator_stack.pop()\n",
    "        return operand_stack.push(op2 - op1)\n",
    "    \n",
    "    elif operator_stack.peek() == \"*\":\n",
    "        operator_stack.pop()\n",
    "        return operand_stack.push(op2 * op1)\n",
    "    \n",
    "    elif operator_stack.peek() == \"/\":\n",
    "        operator_stack.pop()\n",
    "        return operand_stack.push(op2 // op1)\n",
    "    else: return 0\n",
    "    \n",
    "  def evaluate(self):\n",
    "    operand_stack = Stack()\n",
    "    operator_stack = Stack()\n",
    "    expression = self.insert_space()\n",
    "    tokens = expression.split()\n",
    "    \n",
    "    for item in tokens:\n",
    "        if item not in EvaluateExpression.operator:\n",
    "            operand_stack.push(int(item))\n",
    "        else:\n",
    "            if item == '+' or '-':\n",
    "                while operator_stack.size!=0 and operator_stack.peek() != (\")\" or \"(\"):\n",
    "                    self.process_operator(operand_stack,operator_stack)\n",
    "                    operator_stack.push(item)\n",
    "            elif item == \"*\" or \"/\":\n",
    "                self.process_operator(operand_stack,operator_stack)\n",
    "                operator_stack.push(item)\n",
    "            elif item == '(':\n",
    "                operator_stack.push(item)\n",
    "            else:\n",
    "                while operator_stack.peek()!=\"(\":\n",
    "                    self.process_operator(operand_stack,operator_stack)\n",
    "    while operator_stack.size!=0:\n",
    "        self.process_operator(operand_stack,operator_stack)\n",
    "            \n",
    "\n",
    "\n",
    "\n",
    "    print(operand_stack._Stack__items)\n",
    "    print(operator_stack._Stack__items)\n",
    "    print()\n",
    "                \n",
    "            \n",
    "            \n",
    "            \n",
    "            \n",
    "        \n",
    "\n",
    "\n",
    "\n",
    "\n"
   ]
  },
  {
   "cell_type": "code",
   "execution_count": 175,
   "metadata": {},
   "outputs": [
    {
     "name": "stdout",
     "output_type": "stream",
     "text": [
      "[1, 2, 3]\n",
      "[]\n",
      "\n"
     ]
    }
   ],
   "source": [
    "expr1 = EvaluateExpression(\"(1+2)*3\")\n",
    "expr1.evaluate()\n"
   ]
  },
  {
   "cell_type": "code",
   "execution_count": 166,
   "metadata": {},
   "outputs": [
    {
     "ename": "AssertionError",
     "evalue": "",
     "output_type": "error",
     "traceback": [
      "\u001b[1;31m---------------------------------------------------------------------------\u001b[0m",
      "\u001b[1;31mAssertionError\u001b[0m                            Traceback (most recent call last)",
      "\u001b[1;32m<ipython-input-166-361ee4ea6ad3>\u001b[0m in \u001b[0;36m<module>\u001b[1;34m\u001b[0m\n\u001b[0;32m      1\u001b[0m \u001b[0mexpr1\u001b[0m \u001b[1;33m=\u001b[0m \u001b[0mEvaluateExpression\u001b[0m\u001b[1;33m(\u001b[0m\u001b[1;34m\"(1+2)*3\"\u001b[0m\u001b[1;33m)\u001b[0m\u001b[1;33m\u001b[0m\u001b[1;33m\u001b[0m\u001b[0m\n\u001b[0;32m      2\u001b[0m \u001b[1;33m\u001b[0m\u001b[0m\n\u001b[1;32m----> 3\u001b[1;33m \u001b[1;32massert\u001b[0m \u001b[0mexpr1\u001b[0m\u001b[1;33m.\u001b[0m\u001b[0mevaluate\u001b[0m\u001b[1;33m(\u001b[0m\u001b[1;33m)\u001b[0m \u001b[1;33m==\u001b[0m \u001b[1;36m9\u001b[0m\u001b[1;33m\u001b[0m\u001b[1;33m\u001b[0m\u001b[0m\n\u001b[0m\u001b[0;32m      4\u001b[0m \u001b[0mexpr1\u001b[0m\u001b[1;33m.\u001b[0m\u001b[0mexpression\u001b[0m \u001b[1;33m=\u001b[0m \u001b[1;34m\"(1 + 2) * 4 - 3\"\u001b[0m\u001b[1;33m\u001b[0m\u001b[1;33m\u001b[0m\u001b[0m\n\u001b[0;32m      5\u001b[0m \u001b[1;32massert\u001b[0m \u001b[0mexpr1\u001b[0m\u001b[1;33m.\u001b[0m\u001b[0mevaluate\u001b[0m\u001b[1;33m(\u001b[0m\u001b[1;33m)\u001b[0m \u001b[1;33m==\u001b[0m \u001b[1;36m9\u001b[0m\u001b[1;33m\u001b[0m\u001b[1;33m\u001b[0m\u001b[0m\n",
      "\u001b[1;31mAssertionError\u001b[0m: "
     ]
    }
   ],
   "source": [
    "expr1 = EvaluateExpression(\"(1+2)*3\")\n",
    "\n",
    "assert expr1.evaluate() == 9\n",
    "expr1.expression = \"(1 + 2) * 4 - 3\"\n",
    "assert expr1.evaluate() == 9\n",
    "expr2 = EvaluateExpression(\"(1+2 *4-  3)* (7/5 * 6)\")\n",
    "assert expr2.evaluate() == 36"
   ]
  },
  {
   "cell_type": "code",
   "execution_count": null,
   "metadata": {},
   "outputs": [],
   "source": []
  },
  {
   "cell_type": "code",
   "execution_count": null,
   "metadata": {},
   "outputs": [],
   "source": []
  }
 ],
 "metadata": {
  "kernelspec": {
   "display_name": "Python 3",
   "language": "python",
   "name": "python3"
  },
  "language_info": {
   "codemirror_mode": {
    "name": "ipython",
    "version": 3
   },
   "file_extension": ".py",
   "mimetype": "text/x-python",
   "name": "python",
   "nbconvert_exporter": "python",
   "pygments_lexer": "ipython3",
   "version": "3.7.6"
  }
 },
 "nbformat": 4,
 "nbformat_minor": 4
}
