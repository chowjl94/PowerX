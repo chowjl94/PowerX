{
 "cells": [
  {
   "cell_type": "code",
   "execution_count": 15,
   "metadata": {},
   "outputs": [],
   "source": [
    "def mergesort(arr, key=lambda x: x):\n",
    "    if len(arr) < 2:\n",
    "        return arr\n",
    "\n",
    "    mid = len(arr) // 2\n",
    "    left = arr[:mid]\n",
    "    right = arr[mid:]\n",
    "    mergesort(left)\n",
    "    mergesort(right)\n",
    "\n",
    "    i = j = k = 0\n",
    "    while i < len(left) and j < len(right):\n",
    "        if key(left[i]) < key(right[j]):\n",
    "            arr[k] = left[i]\n",
    "            i += 1\n",
    "        else:\n",
    "            arr[k] = right[j]\n",
    "            j += 1\n",
    "        k += 1\n",
    "\n",
    "    while i < len(left):\n",
    "        arr[k] = left[i]\n",
    "        i += 1\n",
    "        k += 1\n",
    "\n",
    "    while j < len(right):\n",
    "        arr[k] = right[j]\n",
    "        j += 1\n",
    "        k += 1\n",
    "\n",
    "    return arr\n",
    "\n",
    "\n",
    "list_of_tuples = [('Birds of Prey', 97.1),\n",
    "                  ('Dolittle', 175.0),\n",
    "                  ('The Gentlemen', 7.0),\n",
    "                  ('Falling', 22.0)]"
   ]
  },
  {
   "cell_type": "code",
   "execution_count": 16,
   "metadata": {},
   "outputs": [
    {
     "data": {
      "text/plain": [
       "[('Falling', 22.0),\n",
       " ('The Gentlemen', 7.0),\n",
       " ('Birds of Prey', 97.1),\n",
       " ('Dolittle', 175.0)]"
      ]
     },
     "execution_count": 16,
     "metadata": {},
     "output_type": "execute_result"
    }
   ],
   "source": [
    "res = merge_sort(list_of_tuples, key=lambda x: x[1])\n",
    "res"
   ]
  },
  {
   "cell_type": "code",
   "execution_count": 21,
   "metadata": {},
   "outputs": [],
   "source": [
    "def mergesort(array , key = lambda item: item):\n",
    "    n = len(array)\n",
    "    mid = n//2\n",
    "    if n == 1:\n",
    "        return array\n",
    "    else:\n",
    "        larr=array[:mid]\n",
    "        rarr=array[mid:]\n",
    "\n",
    "        mergesort(larr)\n",
    "        mergesort(rarr)\n",
    "\n",
    "        dest,pointer_left ,pointer_right = 0 , 0 , 0\n",
    "        n_larr , n_rarr= len(larr),len(rarr)\n",
    "\n",
    "        while (pointer_left < n) and (pointer_right < n_rarr):\n",
    "            if key(pointer_left)<key(pointer_right):\n",
    "                array[dest] = larr[pointer_left]\n",
    "                ##left pointer shift\n",
    "                pointer_left +=1\n",
    "            else:\n",
    "                array[dest] = rarr[pointer_right]\n",
    "                ## right pointert shift\n",
    "                pointer_right+=1\n",
    "            dest+=1\n",
    "\n",
    "        while (pointer_right<n_rarr):\n",
    "            array[dest] = rarr[pointer_right]\n",
    "            pointer_right+=1\n",
    "            dest+=1\n",
    "        while(pointer_left<n_larr):\n",
    "            array[dest] =larr[pointer_left]\n",
    "            pointer_left+=1\n",
    "            dest+=1 \n",
    "        \n"
   ]
  },
  {
   "cell_type": "code",
   "execution_count": null,
   "metadata": {},
   "outputs": [],
   "source": []
  },
  {
   "cell_type": "code",
   "execution_count": 22,
   "metadata": {},
   "outputs": [
    {
     "ename": "TypeError",
     "evalue": "'int' object is not subscriptable",
     "output_type": "error",
     "traceback": [
      "\u001b[1;31m---------------------------------------------------------------------------\u001b[0m",
      "\u001b[1;31mTypeError\u001b[0m                                 Traceback (most recent call last)",
      "\u001b[1;32m<ipython-input-22-68d027405056>\u001b[0m in \u001b[0;36m<module>\u001b[1;34m\u001b[0m\n\u001b[1;32m----> 1\u001b[1;33m \u001b[0mres\u001b[0m \u001b[1;33m=\u001b[0m \u001b[0mmergesort\u001b[0m\u001b[1;33m(\u001b[0m\u001b[0mlist_of_tuples\u001b[0m\u001b[1;33m,\u001b[0m \u001b[0mkey\u001b[0m\u001b[1;33m=\u001b[0m\u001b[1;32mlambda\u001b[0m \u001b[0mx\u001b[0m\u001b[1;33m:\u001b[0m \u001b[0mx\u001b[0m\u001b[1;33m[\u001b[0m\u001b[1;36m1\u001b[0m\u001b[1;33m]\u001b[0m\u001b[1;33m)\u001b[0m\u001b[1;33m\u001b[0m\u001b[1;33m\u001b[0m\u001b[0m\n\u001b[0m",
      "\u001b[1;32m<ipython-input-21-4d83e8254a00>\u001b[0m in \u001b[0;36mmergesort\u001b[1;34m(array, key)\u001b[0m\n\u001b[0;32m     15\u001b[0m \u001b[1;33m\u001b[0m\u001b[0m\n\u001b[0;32m     16\u001b[0m         \u001b[1;32mwhile\u001b[0m \u001b[1;33m(\u001b[0m\u001b[0mpointer_left\u001b[0m \u001b[1;33m<\u001b[0m \u001b[0mn\u001b[0m\u001b[1;33m)\u001b[0m \u001b[1;32mand\u001b[0m \u001b[1;33m(\u001b[0m\u001b[0mpointer_right\u001b[0m \u001b[1;33m<\u001b[0m \u001b[0mn_rarr\u001b[0m\u001b[1;33m)\u001b[0m\u001b[1;33m:\u001b[0m\u001b[1;33m\u001b[0m\u001b[1;33m\u001b[0m\u001b[0m\n\u001b[1;32m---> 17\u001b[1;33m             \u001b[1;32mif\u001b[0m \u001b[0mkey\u001b[0m\u001b[1;33m(\u001b[0m\u001b[0mpointer_left\u001b[0m\u001b[1;33m)\u001b[0m\u001b[1;33m<\u001b[0m\u001b[0mkey\u001b[0m\u001b[1;33m(\u001b[0m\u001b[0mpointer_right\u001b[0m\u001b[1;33m)\u001b[0m\u001b[1;33m:\u001b[0m\u001b[1;33m\u001b[0m\u001b[1;33m\u001b[0m\u001b[0m\n\u001b[0m\u001b[0;32m     18\u001b[0m                 \u001b[0marray\u001b[0m\u001b[1;33m[\u001b[0m\u001b[0mdest\u001b[0m\u001b[1;33m]\u001b[0m \u001b[1;33m=\u001b[0m \u001b[0mlarr\u001b[0m\u001b[1;33m[\u001b[0m\u001b[0mpointer_left\u001b[0m\u001b[1;33m]\u001b[0m\u001b[1;33m\u001b[0m\u001b[1;33m\u001b[0m\u001b[0m\n\u001b[0;32m     19\u001b[0m                 \u001b[1;31m##left pointer shift\u001b[0m\u001b[1;33m\u001b[0m\u001b[1;33m\u001b[0m\u001b[1;33m\u001b[0m\u001b[0m\n",
      "\u001b[1;32m<ipython-input-22-68d027405056>\u001b[0m in \u001b[0;36m<lambda>\u001b[1;34m(x)\u001b[0m\n\u001b[1;32m----> 1\u001b[1;33m \u001b[0mres\u001b[0m \u001b[1;33m=\u001b[0m \u001b[0mmergesort\u001b[0m\u001b[1;33m(\u001b[0m\u001b[0mlist_of_tuples\u001b[0m\u001b[1;33m,\u001b[0m \u001b[0mkey\u001b[0m\u001b[1;33m=\u001b[0m\u001b[1;32mlambda\u001b[0m \u001b[0mx\u001b[0m\u001b[1;33m:\u001b[0m \u001b[0mx\u001b[0m\u001b[1;33m[\u001b[0m\u001b[1;36m1\u001b[0m\u001b[1;33m]\u001b[0m\u001b[1;33m)\u001b[0m\u001b[1;33m\u001b[0m\u001b[1;33m\u001b[0m\u001b[0m\n\u001b[0m",
      "\u001b[1;31mTypeError\u001b[0m: 'int' object is not subscriptable"
     ]
    }
   ],
   "source": [
    "res = mergesort(list_of_tuples, key=lambda x: x[1])"
   ]
  },
  {
   "cell_type": "code",
   "execution_count": null,
   "metadata": {},
   "outputs": [],
   "source": [
    "string2=\"Test String leading space to be added\"\n",
    "string_length=len(string2)+10    # will be adding 10 extra spaces\n",
    "string_revised=string2.rjust(string_length)"
   ]
  },
  {
   "cell_type": "code",
   "execution_count": null,
   "metadata": {},
   "outputs": [],
   "source": [
    "string_length"
   ]
  },
  {
   "cell_type": "code",
   "execution_count": null,
   "metadata": {},
   "outputs": [],
   "source": [
    "string_revised"
   ]
  },
  {
   "cell_type": "code",
   "execution_count": 23,
   "metadata": {},
   "outputs": [
    {
     "ename": "NameError",
     "evalue": "name 'EvaluateExpression' is not defined",
     "output_type": "error",
     "traceback": [
      "\u001b[1;31m---------------------------------------------------------------------------\u001b[0m",
      "\u001b[1;31mNameError\u001b[0m                                 Traceback (most recent call last)",
      "\u001b[1;32m<ipython-input-23-72431b7f43a3>\u001b[0m in \u001b[0;36m<module>\u001b[1;34m\u001b[0m\n\u001b[1;32m----> 1\u001b[1;33m \u001b[0mexpr1\u001b[0m \u001b[1;33m=\u001b[0m \u001b[0mEvaluateExpression\u001b[0m\u001b[1;33m(\u001b[0m\u001b[1;34m\"3 & 4\"\u001b[0m\u001b[1;33m)\u001b[0m\u001b[1;33m\u001b[0m\u001b[1;33m\u001b[0m\u001b[0m\n\u001b[0m\u001b[0;32m      2\u001b[0m \u001b[0mvalid_char\u001b[0m \u001b[1;33m=\u001b[0m \u001b[1;34m'0123456789+-*/() '\u001b[0m\u001b[1;33m\u001b[0m\u001b[1;33m\u001b[0m\u001b[0m\n\u001b[0;32m      3\u001b[0m \u001b[1;32mfor\u001b[0m \u001b[0mchar\u001b[0m \u001b[1;32min\u001b[0m \u001b[0mexpr1\u001b[0m\u001b[1;33m.\u001b[0m\u001b[0mexpression\u001b[0m\u001b[1;33m:\u001b[0m\u001b[1;33m\u001b[0m\u001b[1;33m\u001b[0m\u001b[0m\n\u001b[0;32m      4\u001b[0m     \u001b[1;32mif\u001b[0m \u001b[0mchar\u001b[0m \u001b[1;32mnot\u001b[0m \u001b[1;32min\u001b[0m \u001b[0mvalid_char\u001b[0m\u001b[1;33m:\u001b[0m\u001b[1;33m\u001b[0m\u001b[1;33m\u001b[0m\u001b[0m\n\u001b[0;32m      5\u001b[0m         \u001b[1;32mbreak\u001b[0m\u001b[1;33m\u001b[0m\u001b[1;33m\u001b[0m\u001b[0m\n",
      "\u001b[1;31mNameError\u001b[0m: name 'EvaluateExpression' is not defined"
     ]
    }
   ],
   "source": [
    "expr1 = EvaluateExpression(\"3 & 4\")\n",
    "valid_char = '0123456789+-*/() '\n",
    "for char in expr1.expression:\n",
    "    if char not in valid_char:\n",
    "        break\n",
    "expr1.expression  = \"\""
   ]
  },
  {
   "cell_type": "code",
   "execution_count": 55,
   "metadata": {},
   "outputs": [],
   "source": [
    "class EvaluateExpression:\n",
    "  valid_char = '0123456789+-*/() '\n",
    "  def __init__(self, string=\"\"):\n",
    "        \n",
    "        self._expression = string\n",
    "        \n",
    "\n",
    "  @property\n",
    "  def expression(self):\n",
    "        return self._expression\n",
    "        \n",
    "\n",
    "  @expression.setter\n",
    "  def expression(self, expr):\n",
    "#         for char in expr:\n",
    "#             if char not in valid_char:\n",
    "#                 self._expression = \"\"\n",
    "#             else:\n",
    "#                 self._expression = expr\n",
    "    for char in self._expression:\n",
    "        if char not in EvaluateExpression.valid_char:\n",
    "            break\n",
    "        else:\n",
    "            self._expression = expr\n",
    "    self._expression = \"\""
   ]
  },
  {
   "cell_type": "code",
   "execution_count": 56,
   "metadata": {},
   "outputs": [],
   "source": [
    "expr4 = EvaluateExpression(\"3 & 4\")"
   ]
  },
  {
   "cell_type": "code",
   "execution_count": 57,
   "metadata": {},
   "outputs": [
    {
     "data": {
      "text/plain": [
       "'3 & 4'"
      ]
     },
     "execution_count": 57,
     "metadata": {},
     "output_type": "execute_result"
    }
   ],
   "source": [
    "expr4.expression"
   ]
  },
  {
   "cell_type": "code",
   "execution_count": null,
   "metadata": {},
   "outputs": [],
   "source": []
  },
  {
   "cell_type": "code",
   "execution_count": 71,
   "metadata": {},
   "outputs": [
    {
     "name": "stdout",
     "output_type": "stream",
     "text": [
      "a T a\n"
     ]
    }
   ],
   "source": [
    "string1=\"T\"\n",
    "string_length=len(string1)+2  # will be adding 10 extra spaces\n",
    "string_revised=string1.center(string_length)\n",
    "# string_revised=string1.rjust(string_length)\n",
    "print(\"a\" + string_revised + 'a')"
   ]
  },
  {
   "cell_type": "code",
   "execution_count": null,
   "metadata": {},
   "outputs": [],
   "source": [
    "\n",
    "list1 = expr1.expression.split(\" \")\n",
    "\n",
    "for i in range(len(list1)):\n",
    "    if list1[i] in EvaluateExpression.operator:\n",
    "        new_length = len(list1[i])+2\n",
    "        list1[i] = list1[i].center(new_length)\n",
    "list1 =' '.join(list1)\n",
    "print(list1)\n"
   ]
  },
  {
   "cell_type": "code",
   "execution_count": null,
   "metadata": {},
   "outputs": [],
   "source": [
    "class EvaluateExpression:\n",
    "      \n",
    "  valid_char = '0123456789+-*/() '\n",
    "  def __init__(self, string=\"\"):\n",
    "        \n",
    "        self._expression = string\n",
    "        \n",
    "\n",
    "  @property\n",
    "  def expression(self):\n",
    "        return self._expression\n",
    "        \n",
    "  @expression.setter\n",
    "  def expression(self,expr):\n",
    "        if isinstance(expr,str) and expr not in EvaluateExpression.valid_char:\n",
    "            self._expression = \"\"\n",
    "        else:\n",
    "            self._expression = expr\n",
    "    "
   ]
  },
  {
   "cell_type": "markdown",
   "metadata": {},
   "source": [
    "**Q5.** The class `EvaluateExpression` also has the following methods:\n",
    "- `evaluate()`: which evaluate the mathematical expression contained in the property `expression`. The method should return an Integer. This method contains two processes:\n",
    "    - Phase 1: In this phase, the code scans the expression from left to right to extract operands, operators, and the parentheses.\n",
    "        1. If the extracted character is an operand, push it to `operand_stack`.\n",
    "        1. If the extracted character is + or - operator, process  all the operators at the top of the `operator_stack` and push the extracted operator to `operator_stack`. You should process all the operators as long as the `operator_stack` is not empty and the top of the `operator_stack` is not `(` or `)` symbols.\n",
    "        1. If the extracted character is a `*` or `/` operator, process all the `*` or `/` operators at the top of the `operator_stack` and push the extracted operator to `operator_stack`. \n",
    "        1. If the extracted character is a `(` symbol, push it to `operator_stack`.\n",
    "        1. If the extracted character is a `)` symbol, repeatedly process the operators from the top of `operator_stack` until seeing the `(` symbol on the stack. \n",
    "    - Phase 2: Repeatedly process the operators from the top of `operator_stack` until `operator_stack` is empty."
   ]
  },
  {
   "cell_type": "markdown",
   "metadata": {},
   "source": [
    "    for item in tokens:\n",
    "        if item == (\"+\" or \"-\") and operator_stack.size!=0 :\n",
    "            process_operator(operand_stack,operator_stack)\n",
    "            return operator_stack.push(item)\n",
    "\n",
    "        elif item == \"*\" or \"/\":\n",
    "            process_operator(operand_stack,operator_stack)\n",
    "            return operator_stack.push(item)\n",
    "\n",
    "        elif item == \"(\":\n",
    "            return operator_stack.push(item)\n",
    "\n",
    "        elif item == \")\":\n",
    "            while operator_stack.peek() != \")\":\n",
    "                return process_operator(operand_stack,operator_stack)\n",
    "\n",
    "        else:\n",
    "            return operand_stack.push(item)"
   ]
  },
  {
   "cell_type": "code",
   "execution_count": 27,
   "metadata": {},
   "outputs": [],
   "source": [
    "class Stack:\n",
    "  def __init__(self):\n",
    "    self.__items = []\n",
    "        \n",
    "  def push(self, item):\n",
    "    self.__items.append(item)\n",
    "    pass\n",
    "\n",
    "  def pop(self):\n",
    "    if not self.is_empty:\n",
    "        return self.__items.pop()\n",
    "    pass\n",
    "\n",
    "  def peek(self):\n",
    "    if not self.is_empty:\n",
    "        return self.__items[-1]\n",
    "    pass\n",
    "\n",
    "  @property\n",
    "  def is_empty(self):\n",
    "    return self.__items == []\n",
    "  pass\n",
    "\n",
    "  @property\n",
    "  def size(self):\n",
    "    return len(self.__items)"
   ]
  },
  {
   "cell_type": "code",
   "execution_count": 158,
   "metadata": {},
   "outputs": [],
   "source": [
    "\n",
    "\n",
    "\n",
    "        "
   ]
  },
  {
   "cell_type": "code",
   "execution_count": 159,
   "metadata": {},
   "outputs": [
    {
     "name": "stdout",
     "output_type": "stream",
     "text": [
      "[3, 4]\n",
      "['+']\n",
      "None\n"
     ]
    }
   ],
   "source": [
    "expr1 = EvaluateExpression(\"(1+2)*3\")\n",
    "expr1.evaluate()\n",
    "\n",
    "\n"
   ]
  },
  {
   "cell_type": "code",
   "execution_count": 103,
   "metadata": {},
   "outputs": [
    {
     "name": "stdout",
     "output_type": "stream",
     "text": [
      "['(']\n",
      "['1']\n",
      "['(', '+']\n"
     ]
    },
    {
     "ename": "TypeError",
     "evalue": "unsupported operand type(s) for +: 'NoneType' and 'str'",
     "output_type": "error",
     "traceback": [
      "\u001b[1;31m---------------------------------------------------------------------------\u001b[0m",
      "\u001b[1;31mTypeError\u001b[0m                                 Traceback (most recent call last)",
      "\u001b[1;32m<ipython-input-103-a0bd0f6cf5f6>\u001b[0m in \u001b[0;36m<module>\u001b[1;34m\u001b[0m\n\u001b[0;32m      5\u001b[0m \u001b[0moperator_stack\u001b[0m\u001b[1;33m.\u001b[0m\u001b[0mpush\u001b[0m\u001b[1;33m(\u001b[0m\u001b[0mlist1\u001b[0m\u001b[1;33m[\u001b[0m\u001b[1;36m2\u001b[0m\u001b[1;33m]\u001b[0m\u001b[1;33m)\u001b[0m\u001b[1;33m\u001b[0m\u001b[1;33m\u001b[0m\u001b[0m\n\u001b[0;32m      6\u001b[0m \u001b[0mprint\u001b[0m\u001b[1;33m(\u001b[0m\u001b[0moperator_stack\u001b[0m\u001b[1;33m.\u001b[0m\u001b[0m_Stack__items\u001b[0m\u001b[1;33m)\u001b[0m\u001b[1;33m\u001b[0m\u001b[1;33m\u001b[0m\u001b[0m\n\u001b[1;32m----> 7\u001b[1;33m \u001b[0mexpr1\u001b[0m\u001b[1;33m.\u001b[0m\u001b[0mprocess_operator\u001b[0m\u001b[1;33m(\u001b[0m\u001b[0moperand_stack\u001b[0m\u001b[1;33m,\u001b[0m\u001b[0moperator_stack\u001b[0m\u001b[1;33m)\u001b[0m\u001b[1;33m\u001b[0m\u001b[1;33m\u001b[0m\u001b[0m\n\u001b[0m",
      "\u001b[1;32m<ipython-input-97-9c7bf56a8dac>\u001b[0m in \u001b[0;36mprocess_operator\u001b[1;34m(self, operand_stack, operator_stack)\u001b[0m\n\u001b[0;32m     35\u001b[0m     \u001b[1;32mif\u001b[0m \u001b[0moperator_stack\u001b[0m\u001b[1;33m.\u001b[0m\u001b[0mpeek\u001b[0m\u001b[1;33m(\u001b[0m\u001b[1;33m)\u001b[0m \u001b[1;33m==\u001b[0m \u001b[1;34m\"+\"\u001b[0m\u001b[1;33m:\u001b[0m\u001b[1;33m\u001b[0m\u001b[1;33m\u001b[0m\u001b[0m\n\u001b[0;32m     36\u001b[0m         \u001b[0moperator_stack\u001b[0m\u001b[1;33m.\u001b[0m\u001b[0mpop\u001b[0m\u001b[1;33m(\u001b[0m\u001b[1;33m)\u001b[0m\u001b[1;33m\u001b[0m\u001b[1;33m\u001b[0m\u001b[0m\n\u001b[1;32m---> 37\u001b[1;33m         \u001b[1;32mreturn\u001b[0m \u001b[0moperand_stack\u001b[0m\u001b[1;33m.\u001b[0m\u001b[0mpush\u001b[0m\u001b[1;33m(\u001b[0m\u001b[0mop2\u001b[0m \u001b[1;33m+\u001b[0m \u001b[0mop1\u001b[0m\u001b[1;33m)\u001b[0m\u001b[1;33m\u001b[0m\u001b[1;33m\u001b[0m\u001b[0m\n\u001b[0m\u001b[0;32m     38\u001b[0m \u001b[1;33m\u001b[0m\u001b[0m\n\u001b[0;32m     39\u001b[0m     \u001b[1;32melif\u001b[0m \u001b[0moperator_stack\u001b[0m\u001b[1;33m.\u001b[0m\u001b[0mpeek\u001b[0m\u001b[1;33m(\u001b[0m\u001b[1;33m)\u001b[0m \u001b[1;33m==\u001b[0m \u001b[1;34m\"-\"\u001b[0m\u001b[1;33m:\u001b[0m\u001b[1;33m\u001b[0m\u001b[1;33m\u001b[0m\u001b[0m\n",
      "\u001b[1;31mTypeError\u001b[0m: unsupported operand type(s) for +: 'NoneType' and 'str'"
     ]
    }
   ],
   "source": [
    "operator_stack.push(list1[0])\n",
    "print(operator_stack._Stack__items)\n",
    "operand_stack.push(list1[1])\n",
    "print(operand_stack._Stack__items)\n",
    "operator_stack.push(list1[2])\n",
    "print(operator_stack._Stack__items)\n",
    "expr1.process_operator(operand_stack,operator_stack)"
   ]
  },
  {
   "cell_type": "code",
   "execution_count": 63,
   "metadata": {},
   "outputs": [
    {
     "data": {
      "text/plain": [
       "['1', '2', '3']"
      ]
     },
     "execution_count": 63,
     "metadata": {},
     "output_type": "execute_result"
    }
   ],
   "source": [
    "operand_stack._Stack__items"
   ]
  },
  {
   "cell_type": "code",
   "execution_count": 64,
   "metadata": {},
   "outputs": [
    {
     "data": {
      "text/plain": [
       "['(', '+', ')', '-']"
      ]
     },
     "execution_count": 64,
     "metadata": {},
     "output_type": "execute_result"
    }
   ],
   "source": [
    "operator_stack._Stack__items"
   ]
  },
  {
   "cell_type": "code",
   "execution_count": 160,
   "metadata": {},
   "outputs": [],
   "source": [
    "  def process_operator(self, operand_stack, operator_stack):\n",
    "    op1= operand_stack.pop()\n",
    "    op2= operand_stack.pop()\n",
    "    if operator_stack.peek() == \"+\":\n",
    "        operator_stack.pop()\n",
    "        return operand_stack.push(op2 + op1)\n",
    "    \n",
    "    elif operator_stack.peek() == \"-\":\n",
    "        operator_stack.pop()\n",
    "        return operand_stack.push(op2 - op1)\n",
    "    \n",
    "    elif operator_stack.peek() == \"*\":\n",
    "        operator_stack.pop()\n",
    "        return operand_stack.push(op2 * op1)\n",
    "    \n",
    "    elif operator_stack.peek() == \"/\":\n",
    "        operator_stack.pop()\n",
    "        return operand_stack.push(op2 // op1)\n",
    "    else: return 0"
   ]
  },
  {
   "cell_type": "code",
   "execution_count": null,
   "metadata": {},
   "outputs": [],
   "source": []
  }
 ],
 "metadata": {
  "kernelspec": {
   "display_name": "Python 3",
   "language": "python",
   "name": "python3"
  },
  "language_info": {
   "codemirror_mode": {
    "name": "ipython",
    "version": 3
   },
   "file_extension": ".py",
   "mimetype": "text/x-python",
   "name": "python",
   "nbconvert_exporter": "python",
   "pygments_lexer": "ipython3",
   "version": "3.7.6"
  }
 },
 "nbformat": 4,
 "nbformat_minor": 4
}
